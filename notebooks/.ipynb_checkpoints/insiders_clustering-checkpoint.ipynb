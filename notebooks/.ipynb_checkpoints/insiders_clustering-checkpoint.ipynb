{
 "cells": [
  {
   "cell_type": "markdown",
   "id": "7bee15c6",
   "metadata": {},
   "source": [
    "# 0.0 Imports"
   ]
  },
  {
   "cell_type": "code",
   "execution_count": 1,
   "id": "02465a08",
   "metadata": {
    "ExecuteTime": {
     "end_time": "2022-11-25T13:28:02.535097Z",
     "start_time": "2022-11-25T13:28:00.284382Z"
    }
   },
   "outputs": [],
   "source": [
    "import pandas as pd\n",
    "import numpy as np\n",
    "import matplotlib.pyplot as plt\n",
    "import seaborn as sns\n",
    "\n",
    "from yellowbrick.cluster import KElbowVisualizer\n",
    "\n",
    "from sklearn import cluster as c\n",
    "from sklearn import metrics as m\n",
    "\n",
    "from IPython.display import HTML, Image\n",
    "\n",
    "from plotly import express as px"
   ]
  },
  {
   "cell_type": "markdown",
   "id": "8ab5542b",
   "metadata": {},
   "source": [
    "## 0.1 Loading Dataset"
   ]
  },
  {
   "cell_type": "code",
   "execution_count": 2,
   "id": "d7496c35",
   "metadata": {
    "ExecuteTime": {
     "end_time": "2022-11-25T13:28:03.096357Z",
     "start_time": "2022-11-25T13:28:02.537094Z"
    },
    "scrolled": false
   },
   "outputs": [],
   "source": [
    "df_raw = pd.read_csv('D:\\\\My Drive\\\\Pessoal\\\\Projetos\\\\insiders_clustering\\\\insiders_clustering\\\\data\\\\raw\\\\Ecommerce.csv', encoding = \"ISO-8859-1\")\n",
    "df_raw = df_raw.drop('Unnamed: 8', axis=1)"
   ]
  },
  {
   "cell_type": "markdown",
   "id": "cfa8ffa2",
   "metadata": {},
   "source": [
    "## 0.2 Helper Functions"
   ]
  },
  {
   "cell_type": "code",
   "execution_count": null,
   "id": "d151edd4",
   "metadata": {},
   "outputs": [],
   "source": []
  },
  {
   "cell_type": "markdown",
   "id": "4d5a176b",
   "metadata": {},
   "source": [
    "# 1.0 Data Description"
   ]
  },
  {
   "cell_type": "code",
   "execution_count": 3,
   "id": "e029b1e5",
   "metadata": {
    "ExecuteTime": {
     "end_time": "2022-11-25T13:28:03.127212Z",
     "start_time": "2022-11-25T13:28:03.107808Z"
    }
   },
   "outputs": [],
   "source": [
    "df1 = df_raw.copy()"
   ]
  },
  {
   "cell_type": "markdown",
   "id": "66c82bae",
   "metadata": {},
   "source": [
    "## 1.1 Looking Dataset"
   ]
  },
  {
   "cell_type": "code",
   "execution_count": 4,
   "id": "e80aa8d5",
   "metadata": {
    "ExecuteTime": {
     "end_time": "2022-11-25T13:28:03.157995Z",
     "start_time": "2022-11-25T13:28:03.133735Z"
    },
    "scrolled": true
   },
   "outputs": [
    {
     "data": {
      "text/html": [
       "<div>\n",
       "<style scoped>\n",
       "    .dataframe tbody tr th:only-of-type {\n",
       "        vertical-align: middle;\n",
       "    }\n",
       "\n",
       "    .dataframe tbody tr th {\n",
       "        vertical-align: top;\n",
       "    }\n",
       "\n",
       "    .dataframe thead th {\n",
       "        text-align: right;\n",
       "    }\n",
       "</style>\n",
       "<table border=\"1\" class=\"dataframe\">\n",
       "  <thead>\n",
       "    <tr style=\"text-align: right;\">\n",
       "      <th></th>\n",
       "      <th>InvoiceNo</th>\n",
       "      <th>StockCode</th>\n",
       "      <th>Description</th>\n",
       "      <th>Quantity</th>\n",
       "      <th>InvoiceDate</th>\n",
       "      <th>UnitPrice</th>\n",
       "      <th>CustomerID</th>\n",
       "      <th>Country</th>\n",
       "    </tr>\n",
       "  </thead>\n",
       "  <tbody>\n",
       "    <tr>\n",
       "      <th>0</th>\n",
       "      <td>536365</td>\n",
       "      <td>85123A</td>\n",
       "      <td>WHITE HANGING HEART T-LIGHT HOLDER</td>\n",
       "      <td>6</td>\n",
       "      <td>29-Nov-16</td>\n",
       "      <td>2.55</td>\n",
       "      <td>17850.0</td>\n",
       "      <td>United Kingdom</td>\n",
       "    </tr>\n",
       "    <tr>\n",
       "      <th>1</th>\n",
       "      <td>536365</td>\n",
       "      <td>71053</td>\n",
       "      <td>WHITE METAL LANTERN</td>\n",
       "      <td>6</td>\n",
       "      <td>29-Nov-16</td>\n",
       "      <td>3.39</td>\n",
       "      <td>17850.0</td>\n",
       "      <td>United Kingdom</td>\n",
       "    </tr>\n",
       "    <tr>\n",
       "      <th>2</th>\n",
       "      <td>536365</td>\n",
       "      <td>84406B</td>\n",
       "      <td>CREAM CUPID HEARTS COAT HANGER</td>\n",
       "      <td>8</td>\n",
       "      <td>29-Nov-16</td>\n",
       "      <td>2.75</td>\n",
       "      <td>17850.0</td>\n",
       "      <td>United Kingdom</td>\n",
       "    </tr>\n",
       "    <tr>\n",
       "      <th>3</th>\n",
       "      <td>536365</td>\n",
       "      <td>84029G</td>\n",
       "      <td>KNITTED UNION FLAG HOT WATER BOTTLE</td>\n",
       "      <td>6</td>\n",
       "      <td>29-Nov-16</td>\n",
       "      <td>3.39</td>\n",
       "      <td>17850.0</td>\n",
       "      <td>United Kingdom</td>\n",
       "    </tr>\n",
       "    <tr>\n",
       "      <th>4</th>\n",
       "      <td>536365</td>\n",
       "      <td>84029E</td>\n",
       "      <td>RED WOOLLY HOTTIE WHITE HEART.</td>\n",
       "      <td>6</td>\n",
       "      <td>29-Nov-16</td>\n",
       "      <td>3.39</td>\n",
       "      <td>17850.0</td>\n",
       "      <td>United Kingdom</td>\n",
       "    </tr>\n",
       "  </tbody>\n",
       "</table>\n",
       "</div>"
      ],
      "text/plain": [
       "  InvoiceNo StockCode                          Description  Quantity  \\\n",
       "0    536365    85123A   WHITE HANGING HEART T-LIGHT HOLDER         6   \n",
       "1    536365     71053                  WHITE METAL LANTERN         6   \n",
       "2    536365    84406B       CREAM CUPID HEARTS COAT HANGER         8   \n",
       "3    536365    84029G  KNITTED UNION FLAG HOT WATER BOTTLE         6   \n",
       "4    536365    84029E       RED WOOLLY HOTTIE WHITE HEART.         6   \n",
       "\n",
       "  InvoiceDate  UnitPrice  CustomerID         Country  \n",
       "0   29-Nov-16       2.55     17850.0  United Kingdom  \n",
       "1   29-Nov-16       3.39     17850.0  United Kingdom  \n",
       "2   29-Nov-16       2.75     17850.0  United Kingdom  \n",
       "3   29-Nov-16       3.39     17850.0  United Kingdom  \n",
       "4   29-Nov-16       3.39     17850.0  United Kingdom  "
      ]
     },
     "execution_count": 4,
     "metadata": {},
     "output_type": "execute_result"
    }
   ],
   "source": [
    "df1.head()"
   ]
  },
  {
   "cell_type": "markdown",
   "id": "54131246",
   "metadata": {},
   "source": [
    "## 1.2 Rename Columns"
   ]
  },
  {
   "cell_type": "code",
   "execution_count": 5,
   "id": "b7cbec64",
   "metadata": {
    "ExecuteTime": {
     "end_time": "2022-11-25T13:28:03.173603Z",
     "start_time": "2022-11-25T13:28:03.162423Z"
    }
   },
   "outputs": [],
   "source": [
    "cols = 'invoice_no stock_code description quantity invoice_date unit_price customer_id country'.split()\n",
    "\n",
    "df1.columns = cols"
   ]
  },
  {
   "cell_type": "markdown",
   "id": "b89be769",
   "metadata": {},
   "source": [
    "## 1.3 Data Dimensions"
   ]
  },
  {
   "cell_type": "code",
   "execution_count": 6,
   "id": "7c8e3bc7",
   "metadata": {
    "ExecuteTime": {
     "end_time": "2022-11-25T13:28:03.188448Z",
     "start_time": "2022-11-25T13:28:03.179913Z"
    }
   },
   "outputs": [
    {
     "name": "stdout",
     "output_type": "stream",
     "text": [
      "Há: 541909 linhas\n",
      "Há: 8 columnas\n"
     ]
    }
   ],
   "source": [
    "print(f'Há: {df1.shape[0]} linhas')\n",
    "print(f'Há: {df1.shape[1]} columnas')"
   ]
  },
  {
   "cell_type": "markdown",
   "id": "83f566d5",
   "metadata": {},
   "source": [
    "## 1.4 Datatypes"
   ]
  },
  {
   "cell_type": "code",
   "execution_count": 7,
   "id": "8b613777",
   "metadata": {
    "ExecuteTime": {
     "end_time": "2022-11-25T13:28:03.204048Z",
     "start_time": "2022-11-25T13:28:03.190774Z"
    }
   },
   "outputs": [
    {
     "data": {
      "text/plain": [
       "invoice_no       object\n",
       "stock_code       object\n",
       "description      object\n",
       "quantity          int64\n",
       "invoice_date     object\n",
       "unit_price      float64\n",
       "customer_id     float64\n",
       "country          object\n",
       "dtype: object"
      ]
     },
     "execution_count": 7,
     "metadata": {},
     "output_type": "execute_result"
    }
   ],
   "source": [
    "df1.dtypes"
   ]
  },
  {
   "cell_type": "markdown",
   "id": "33ca8bd9",
   "metadata": {},
   "source": [
    "## 1.5 Check NaN's"
   ]
  },
  {
   "cell_type": "code",
   "execution_count": 8,
   "id": "b104e945",
   "metadata": {
    "ExecuteTime": {
     "end_time": "2022-11-25T13:28:03.502123Z",
     "start_time": "2022-11-25T13:28:03.207062Z"
    },
    "scrolled": true
   },
   "outputs": [
    {
     "data": {
      "text/plain": [
       "invoice_no           0\n",
       "stock_code           0\n",
       "description       1454\n",
       "quantity             0\n",
       "invoice_date         0\n",
       "unit_price           0\n",
       "customer_id     135080\n",
       "country              0\n",
       "dtype: int64"
      ]
     },
     "execution_count": 8,
     "metadata": {},
     "output_type": "execute_result"
    }
   ],
   "source": [
    "df1.isna().sum()"
   ]
  },
  {
   "cell_type": "markdown",
   "id": "e71d18dd",
   "metadata": {},
   "source": [
    "## 1.6 Replace NaN's"
   ]
  },
  {
   "cell_type": "code",
   "execution_count": 9,
   "id": "06caeebf",
   "metadata": {
    "ExecuteTime": {
     "end_time": "2022-11-25T13:28:03.844127Z",
     "start_time": "2022-11-25T13:28:03.504116Z"
    }
   },
   "outputs": [
    {
     "name": "stdout",
     "output_type": "stream",
     "text": [
      "Removidos 24.93% da base\n",
      "Total atual de linhas 406829\n"
     ]
    }
   ],
   "source": [
    "temp = df1.shape[0]\n",
    "\n",
    "df1.dropna(inplace=True)\n",
    "\n",
    "print(f'Removidos {round((100 * (temp - df1.shape[0]) / temp), 2)}% da base')\n",
    "print(f'Total atual de linhas {df1.shape[0]}')"
   ]
  },
  {
   "cell_type": "markdown",
   "id": "5201f62f",
   "metadata": {},
   "source": [
    "## 1.7 Change Datatypes"
   ]
  },
  {
   "cell_type": "code",
   "execution_count": 10,
   "id": "045f61af",
   "metadata": {
    "ExecuteTime": {
     "end_time": "2022-11-25T13:28:03.938546Z",
     "start_time": "2022-11-25T13:28:03.846721Z"
    }
   },
   "outputs": [],
   "source": [
    "# 'invoice_date'\n",
    "df1['invoice_date'] = pd.to_datetime(df1['invoice_date'])"
   ]
  },
  {
   "cell_type": "markdown",
   "id": "f46226f6",
   "metadata": {},
   "source": [
    "## 1.8 Descriptive Statistical"
   ]
  },
  {
   "cell_type": "code",
   "execution_count": null,
   "id": "163cbd13",
   "metadata": {},
   "outputs": [],
   "source": []
  },
  {
   "cell_type": "markdown",
   "id": "7677a066",
   "metadata": {},
   "source": [
    "# 2.0 Feature Engineering"
   ]
  },
  {
   "cell_type": "code",
   "execution_count": 11,
   "id": "dad7ffa2",
   "metadata": {
    "ExecuteTime": {
     "end_time": "2022-11-25T13:28:03.953926Z",
     "start_time": "2022-11-25T13:28:03.939548Z"
    }
   },
   "outputs": [],
   "source": [
    "df2 = df1.copy()"
   ]
  },
  {
   "cell_type": "code",
   "execution_count": 12,
   "id": "31e4ec3b",
   "metadata": {
    "ExecuteTime": {
     "end_time": "2022-11-25T13:28:04.125350Z",
     "start_time": "2022-11-25T13:28:03.955916Z"
    },
    "scrolled": true
   },
   "outputs": [
    {
     "name": "stderr",
     "output_type": "stream",
     "text": [
      "C:\\Users\\Samoel\\AppData\\Local\\Temp\\ipykernel_5548\\3469801785.py:13: SettingWithCopyWarning: \n",
      "A value is trying to be set on a copy of a slice from a DataFrame.\n",
      "Try using .loc[row_indexer,col_indexer] = value instead\n",
      "\n",
      "See the caveats in the documentation: https://pandas.pydata.org/pandas-docs/stable/user_guide/indexing.html#returning-a-view-versus-a-copy\n",
      "  temp['invoice_time_delta'] = (df2['invoice_date'].max() - df2['invoice_date']).dt.days\n"
     ]
    },
    {
     "data": {
      "text/html": [
       "<div>\n",
       "<style scoped>\n",
       "    .dataframe tbody tr th:only-of-type {\n",
       "        vertical-align: middle;\n",
       "    }\n",
       "\n",
       "    .dataframe tbody tr th {\n",
       "        vertical-align: top;\n",
       "    }\n",
       "\n",
       "    .dataframe thead th {\n",
       "        text-align: right;\n",
       "    }\n",
       "</style>\n",
       "<table border=\"1\" class=\"dataframe\">\n",
       "  <thead>\n",
       "    <tr style=\"text-align: right;\">\n",
       "      <th></th>\n",
       "      <th>customer_id</th>\n",
       "      <th>gross_revenue</th>\n",
       "      <th>recency_days</th>\n",
       "      <th>frequency</th>\n",
       "    </tr>\n",
       "  </thead>\n",
       "  <tbody>\n",
       "    <tr>\n",
       "      <th>0</th>\n",
       "      <td>17850.0</td>\n",
       "      <td>5288.63</td>\n",
       "      <td>302</td>\n",
       "      <td>35</td>\n",
       "    </tr>\n",
       "    <tr>\n",
       "      <th>1</th>\n",
       "      <td>13047.0</td>\n",
       "      <td>3079.10</td>\n",
       "      <td>31</td>\n",
       "      <td>18</td>\n",
       "    </tr>\n",
       "    <tr>\n",
       "      <th>2</th>\n",
       "      <td>12583.0</td>\n",
       "      <td>7187.34</td>\n",
       "      <td>2</td>\n",
       "      <td>18</td>\n",
       "    </tr>\n",
       "    <tr>\n",
       "      <th>3</th>\n",
       "      <td>13748.0</td>\n",
       "      <td>948.25</td>\n",
       "      <td>95</td>\n",
       "      <td>5</td>\n",
       "    </tr>\n",
       "    <tr>\n",
       "      <th>4</th>\n",
       "      <td>15100.0</td>\n",
       "      <td>635.10</td>\n",
       "      <td>330</td>\n",
       "      <td>6</td>\n",
       "    </tr>\n",
       "  </tbody>\n",
       "</table>\n",
       "</div>"
      ],
      "text/plain": [
       "   customer_id  gross_revenue  recency_days  frequency\n",
       "0      17850.0        5288.63           302         35\n",
       "1      13047.0        3079.10            31         18\n",
       "2      12583.0        7187.34             2         18\n",
       "3      13748.0         948.25            95          5\n",
       "4      15100.0         635.10           330          6"
      ]
     },
     "execution_count": 12,
     "metadata": {},
     "output_type": "execute_result"
    }
   ],
   "source": [
    "# data reference\n",
    "df_ref = df2[['customer_id']].drop_duplicates(ignore_index=True)\n",
    "\n",
    "# gross revenue\n",
    "df2['gross_revenue'] = df2['quantity'] * df2['unit_price']\n",
    "\n",
    "# monetary\n",
    "temp = df2.groupby('customer_id').agg({'gross_revenue': 'sum'}).reset_index()\n",
    "df_ref = pd.merge(df_ref, temp, how='left', on='customer_id')\n",
    "\n",
    "# recency\n",
    "temp = df2[['customer_id', 'invoice_date']]\n",
    "temp['invoice_time_delta'] = (df2['invoice_date'].max() - df2['invoice_date']).dt.days\n",
    "temp = temp.groupby('customer_id').agg({'invoice_time_delta':'min'}).reset_index()\n",
    "temp.columns = ['customer_id', 'recency_days']\n",
    "df_ref = pd.merge(df_ref, temp, how='left', on='customer_id')\n",
    "\n",
    "# frequency\n",
    "temp = df2[['invoice_no', 'customer_id']].drop_duplicates().groupby('customer_id').agg({'invoice_no':'count'}).reset_index()\n",
    "temp.columns = ['customer_id', 'frequency']\n",
    "df_ref = pd.merge(df_ref, temp, on='customer_id', how='left')\n",
    "df_ref.head()"
   ]
  },
  {
   "cell_type": "code",
   "execution_count": 13,
   "id": "a7902ec9",
   "metadata": {
    "ExecuteTime": {
     "end_time": "2022-11-25T13:28:04.157006Z",
     "start_time": "2022-11-25T13:28:04.129878Z"
    }
   },
   "outputs": [],
   "source": [
    "df2 = df_ref.copy()"
   ]
  },
  {
   "cell_type": "markdown",
   "id": "d4857121",
   "metadata": {},
   "source": [
    "# 3.0 Exploratory Data Analysis"
   ]
  },
  {
   "cell_type": "code",
   "execution_count": 14,
   "id": "813cb6a3",
   "metadata": {
    "ExecuteTime": {
     "end_time": "2022-11-25T13:28:04.172231Z",
     "start_time": "2022-11-25T13:28:04.158902Z"
    }
   },
   "outputs": [],
   "source": [
    "df3 = df2.copy()"
   ]
  },
  {
   "cell_type": "markdown",
   "id": "15cb1163",
   "metadata": {},
   "source": [
    "# 4.0 Data Filtering"
   ]
  },
  {
   "cell_type": "code",
   "execution_count": 15,
   "id": "43be0063",
   "metadata": {
    "ExecuteTime": {
     "end_time": "2022-11-25T13:28:04.187985Z",
     "start_time": "2022-11-25T13:28:04.173228Z"
    }
   },
   "outputs": [],
   "source": [
    "df4 = df3.copy()"
   ]
  },
  {
   "cell_type": "markdown",
   "id": "07dd4203",
   "metadata": {},
   "source": [
    "# 5.0 Data Preparation"
   ]
  },
  {
   "cell_type": "code",
   "execution_count": 16,
   "id": "fa092655",
   "metadata": {
    "ExecuteTime": {
     "end_time": "2022-11-25T13:28:04.203575Z",
     "start_time": "2022-11-25T13:28:04.189986Z"
    }
   },
   "outputs": [],
   "source": [
    "df5 = df4.copy()"
   ]
  },
  {
   "cell_type": "markdown",
   "id": "b7697ecc",
   "metadata": {},
   "source": [
    "# 6.0 Feature Selection"
   ]
  },
  {
   "cell_type": "code",
   "execution_count": 17,
   "id": "0b2cbf46",
   "metadata": {
    "ExecuteTime": {
     "end_time": "2022-11-25T13:28:04.218448Z",
     "start_time": "2022-11-25T13:28:04.204585Z"
    }
   },
   "outputs": [],
   "source": [
    "df6 = df5.copy()"
   ]
  },
  {
   "cell_type": "markdown",
   "id": "31ed77e7",
   "metadata": {},
   "source": [
    "# 7.0 Hyperparameter Fine-tuning"
   ]
  },
  {
   "cell_type": "code",
   "execution_count": 18,
   "id": "0d74d404",
   "metadata": {
    "ExecuteTime": {
     "end_time": "2022-11-25T13:28:04.233726Z",
     "start_time": "2022-11-25T13:28:04.220474Z"
    }
   },
   "outputs": [],
   "source": [
    "df7 = df6.copy()"
   ]
  },
  {
   "cell_type": "code",
   "execution_count": 19,
   "id": "8346d684",
   "metadata": {
    "ExecuteTime": {
     "end_time": "2022-11-25T13:28:04.249174Z",
     "start_time": "2022-11-25T13:28:04.235717Z"
    }
   },
   "outputs": [],
   "source": [
    "X = df7.drop('customer_id', axis=1)"
   ]
  },
  {
   "cell_type": "markdown",
   "id": "37e8cd40",
   "metadata": {},
   "source": [
    "## 7.1 Within-Cluster Sum of Square (WSS)"
   ]
  },
  {
   "cell_type": "code",
   "execution_count": 20,
   "id": "25947243",
   "metadata": {
    "ExecuteTime": {
     "end_time": "2022-11-25T13:28:04.795581Z",
     "start_time": "2022-11-25T13:28:04.251174Z"
    }
   },
   "outputs": [
    {
     "data": {
      "image/png": "[encoded data removed]",
      "text/plain": [
       "<Figure size 432x288 with 1 Axes>"
      ]
     },
     "metadata": {
      "needs_background": "light"
     },
     "output_type": "display_data"
    }
   ],
   "source": [
    "clusters = [2, 3, 4, 5, 6]\n",
    "kmeans = KElbowVisualizer(c.KMeans(), k=clusters, timings=False)\n",
    "kmeans.fit(X)\n",
    "kmeans.show();"
   ]
  },
  {
   "cell_type": "markdown",
   "id": "fceb2d3b",
   "metadata": {},
   "source": [
    "## 7.2 Silhouette Score"
   ]
  },
  {
   "cell_type": "code",
   "execution_count": 21,
   "id": "8b90a908",
   "metadata": {
    "ExecuteTime": {
     "end_time": "2022-11-25T13:28:06.744228Z",
     "start_time": "2022-11-25T13:28:04.798531Z"
    }
   },
   "outputs": [
    {
     "data": {
      "image/png": "[encoded data removed]",
      "text/plain": [
       "<Figure size 432x288 with 1 Axes>"
      ]
     },
     "metadata": {
      "needs_background": "light"
     },
     "output_type": "display_data"
    }
   ],
   "source": [
    "clusters = [2, 3, 4, 5, 6]\n",
    "kmeans = KElbowVisualizer(c.KMeans(), metric='silhouette', k=clusters, timings=False)\n",
    "kmeans.fit(X)\n",
    "kmeans.show();"
   ]
  },
  {
   "cell_type": "markdown",
   "id": "d9b99a0a",
   "metadata": {},
   "source": [
    "# 8.0 Model Training"
   ]
  },
  {
   "cell_type": "code",
   "execution_count": 22,
   "id": "afce442a",
   "metadata": {
    "ExecuteTime": {
     "end_time": "2022-11-25T13:28:06.760216Z",
     "start_time": "2022-11-25T13:28:06.746594Z"
    }
   },
   "outputs": [],
   "source": [
    "df8 = df7.copy()\n",
    "\n",
    "X = df8.drop('customer_id', axis=1)"
   ]
  },
  {
   "cell_type": "markdown",
   "id": "513ce98b",
   "metadata": {},
   "source": [
    "## 8.1 K-Means"
   ]
  },
  {
   "cell_type": "code",
   "execution_count": 23,
   "id": "4dc95535",
   "metadata": {
    "ExecuteTime": {
     "end_time": "2022-11-25T13:28:06.822053Z",
     "start_time": "2022-11-25T13:28:06.764201Z"
    }
   },
   "outputs": [],
   "source": [
    "k = 3\n",
    "\n",
    "# model definition\n",
    "kmeans = c.KMeans(init='random', n_clusters=k, n_init=10, max_iter=300, random_state=100)\n",
    "\n",
    "# model training\n",
    "kmeans.fit(X)\n",
    "\n",
    "# clustering\n",
    "labels = kmeans.labels_\n",
    "df8['cluster'] = labels"
   ]
  },
  {
   "cell_type": "markdown",
   "id": "b7e1f322",
   "metadata": {},
   "source": [
    "### 8.1.1 Cluster Validation"
   ]
  },
  {
   "cell_type": "code",
   "execution_count": 24,
   "id": "04b65a34",
   "metadata": {
    "ExecuteTime": {
     "end_time": "2022-11-25T13:28:07.178385Z",
     "start_time": "2022-11-25T13:28:06.828274Z"
    }
   },
   "outputs": [
    {
     "name": "stdout",
     "output_type": "stream",
     "text": [
      "WSS value: 52830442008.00695\n",
      "SS value: 0.9494677566681542\n"
     ]
    }
   ],
   "source": [
    "# WSS (Within-cluster sum of squares)\n",
    "print(f'WSS value: {kmeans.inertia_}')\n",
    "\n",
    "# SS (silhouette)\n",
    "print(f'SS value: {m.silhouette_score(X, labels, metric=\"euclidean\")}')"
   ]
  },
  {
   "cell_type": "markdown",
   "id": "fb144ce9",
   "metadata": {},
   "source": [
    "# 9.0 Cluster Analysis"
   ]
  },
  {
   "cell_type": "code",
   "execution_count": 25,
   "id": "08b7780a",
   "metadata": {
    "ExecuteTime": {
     "end_time": "2022-11-25T13:28:07.193299Z",
     "start_time": "2022-11-25T13:28:07.182367Z"
    }
   },
   "outputs": [],
   "source": [
    "df9 = df8.copy()"
   ]
  },
  {
   "cell_type": "code",
   "execution_count": 26,
   "id": "b9e218ed",
   "metadata": {
    "ExecuteTime": {
     "end_time": "2022-11-25T13:28:07.224485Z",
     "start_time": "2022-11-25T13:28:07.195793Z"
    }
   },
   "outputs": [
    {
     "data": {
      "text/html": [
       "<div>\n",
       "<style scoped>\n",
       "    .dataframe tbody tr th:only-of-type {\n",
       "        vertical-align: middle;\n",
       "    }\n",
       "\n",
       "    .dataframe tbody tr th {\n",
       "        vertical-align: top;\n",
       "    }\n",
       "\n",
       "    .dataframe thead th {\n",
       "        text-align: right;\n",
       "    }\n",
       "</style>\n",
       "<table border=\"1\" class=\"dataframe\">\n",
       "  <thead>\n",
       "    <tr style=\"text-align: right;\">\n",
       "      <th></th>\n",
       "      <th>customer_id</th>\n",
       "      <th>gross_revenue</th>\n",
       "      <th>recency_days</th>\n",
       "      <th>frequency</th>\n",
       "      <th>cluster</th>\n",
       "    </tr>\n",
       "  </thead>\n",
       "  <tbody>\n",
       "    <tr>\n",
       "      <th>0</th>\n",
       "      <td>17850.0</td>\n",
       "      <td>5288.63</td>\n",
       "      <td>302</td>\n",
       "      <td>35</td>\n",
       "      <td>2</td>\n",
       "    </tr>\n",
       "    <tr>\n",
       "      <th>1</th>\n",
       "      <td>13047.0</td>\n",
       "      <td>3079.10</td>\n",
       "      <td>31</td>\n",
       "      <td>18</td>\n",
       "      <td>2</td>\n",
       "    </tr>\n",
       "    <tr>\n",
       "      <th>2</th>\n",
       "      <td>12583.0</td>\n",
       "      <td>7187.34</td>\n",
       "      <td>2</td>\n",
       "      <td>18</td>\n",
       "      <td>2</td>\n",
       "    </tr>\n",
       "    <tr>\n",
       "      <th>3</th>\n",
       "      <td>13748.0</td>\n",
       "      <td>948.25</td>\n",
       "      <td>95</td>\n",
       "      <td>5</td>\n",
       "      <td>2</td>\n",
       "    </tr>\n",
       "    <tr>\n",
       "      <th>4</th>\n",
       "      <td>15100.0</td>\n",
       "      <td>635.10</td>\n",
       "      <td>330</td>\n",
       "      <td>6</td>\n",
       "      <td>2</td>\n",
       "    </tr>\n",
       "  </tbody>\n",
       "</table>\n",
       "</div>"
      ],
      "text/plain": [
       "   customer_id  gross_revenue  recency_days  frequency  cluster\n",
       "0      17850.0        5288.63           302         35        2\n",
       "1      13047.0        3079.10            31         18        2\n",
       "2      12583.0        7187.34             2         18        2\n",
       "3      13748.0         948.25            95          5        2\n",
       "4      15100.0         635.10           330          6        2"
      ]
     },
     "execution_count": 26,
     "metadata": {},
     "output_type": "execute_result"
    }
   ],
   "source": [
    "df9.head()"
   ]
  },
  {
   "cell_type": "code",
   "execution_count": 27,
   "id": "18375e56",
   "metadata": {
    "ExecuteTime": {
     "end_time": "2022-11-25T13:28:07.835080Z",
     "start_time": "2022-11-25T13:28:07.228401Z"
    }
   },
   "outputs": [
    {
     "data": {
      "image/jpeg": "[encoded data removed]",
      "text/plain": [
       "<IPython.core.display.Image object>"
      ]
     },
     "execution_count": 27,
     "metadata": {},
     "output_type": "execute_result"
    }
   ],
   "source": [
    "fig = px.scatter_3d(df9, x='gross_revenue', y='recency_days', z='frequency', color='cluster')\n",
    "# fig.show()\n",
    "Image('D:\\\\My Drive\\\\Pessoal\\\\Projetos\\\\insiders_clustering\\\\insiders_clustering\\\\img\\\\3d_plot.jpg')"
   ]
  },
  {
   "cell_type": "markdown",
   "id": "f0ae970d",
   "metadata": {},
   "source": [
    "# 10.0 Deploy to Production"
   ]
  },
  {
   "cell_type": "code",
   "execution_count": null,
   "id": "376bcd7a",
   "metadata": {},
   "outputs": [],
   "source": []
  }
 ],
 "metadata": {
  "kernelspec": {
   "display_name": "Python 3 (ipykernel)",
   "language": "python",
   "name": "python3"
  },
  "language_info": {
   "codemirror_mode": {
    "name": "ipython",
    "version": 3
   },
   "file_extension": ".py",
   "mimetype": "text/x-python",
   "name": "python",
   "nbconvert_exporter": "python",
   "pygments_lexer": "ipython3",
   "version": "3.9.13"
  }
 },
 "nbformat": 4,
 "nbformat_minor": 5
}
