{
 "cells": [
  {
   "cell_type": "markdown",
   "id": "7bee15c6",
   "metadata": {},
   "source": [
    "# 0.0 Imports"
   ]
  },
  {
   "cell_type": "code",
   "execution_count": 1,
   "id": "02465a08",
   "metadata": {},
   "outputs": [],
   "source": [
    "import pandas as pd"
   ]
  },
  {
   "cell_type": "markdown",
   "id": "8ab5542b",
   "metadata": {},
   "source": [
    "## 0.1 Loading Dataset"
   ]
  },
  {
   "cell_type": "code",
   "execution_count": 11,
   "id": "d7496c35",
   "metadata": {
    "scrolled": false
   },
   "outputs": [],
   "source": [
    "df = pd.read_csv('D:\\\\My Drive\\\\Pessoal\\\\Projetos\\\\pa005_insiders_clustering\\\\insiders_clustering\\\\data\\\\raw\\\\Ecommerce.csv', encoding = \"ISO-8859-1\")\n",
    "\n",
    "df = df.drop('Unnamed: 8', axis=1)\n",
    "\n",
    "df.head()"
   ]
  }
 ],
 "metadata": {
  "kernelspec": {
   "display_name": "Python 3 (ipykernel)",
   "language": "python",
   "name": "python3"
  },
  "language_info": {
   "codemirror_mode": {
    "name": "ipython",
    "version": 3
   },
   "file_extension": ".py",
   "mimetype": "text/x-python",
   "name": "python",
   "nbconvert_exporter": "python",
   "pygments_lexer": "ipython3",
   "version": "3.9.13"
  }
 },
 "nbformat": 4,
 "nbformat_minor": 5
}
